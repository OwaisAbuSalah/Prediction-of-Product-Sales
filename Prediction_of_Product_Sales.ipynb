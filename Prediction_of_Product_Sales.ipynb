{
  "nbformat": 4,
  "nbformat_minor": 0,
  "metadata": {
    "colab": {
      "provenance": [],
      "authorship_tag": "ABX9TyPoXzkQC0aJM/modcS4YSgf",
      "include_colab_link": true
    },
    "kernelspec": {
      "name": "python3",
      "display_name": "Python 3"
    },
    "language_info": {
      "name": "python"
    }
  },
  "cells": [
    {
      "cell_type": "markdown",
      "metadata": {
        "id": "view-in-github",
        "colab_type": "text"
      },
      "source": [
        "<a href=\"https://colab.research.google.com/github/OwaisAbuSalah/Prediction-of-Product-Sales/blob/main/Prediction_of_Product_Sales.ipynb\" target=\"_parent\"><img src=\"https://colab.research.google.com/assets/colab-badge.svg\" alt=\"Open In Colab\"/></a>"
      ]
    },
    {
      "cell_type": "markdown",
      "source": [
        "# Prediction of Product Sales\n",
        "\n",
        "- Author : Owais AbuSalah"
      ],
      "metadata": {
        "id": "AHa0DmM1R0H9"
      }
    },
    {
      "cell_type": "markdown",
      "source": [
        "## Project Overview\n",
        "\n"
      ],
      "metadata": {
        "id": "zOmg9-AgSp5u"
      }
    },
    {
      "cell_type": "markdown",
      "source": [],
      "metadata": {
        "id": "0ReZp4MES_HV"
      }
    },
    {
      "cell_type": "markdown",
      "source": [
        "## \"Load and Inspect Data\"\n"
      ],
      "metadata": {
        "id": "B4nNRR50TFds"
      }
    },
    {
      "cell_type": "code",
      "source": [],
      "metadata": {
        "id": "P9L4DjcUTUDD"
      },
      "execution_count": null,
      "outputs": []
    },
    {
      "cell_type": "markdown",
      "source": [
        "\n",
        "## \"Clean Data\"\n",
        "\n",
        "\n"
      ],
      "metadata": {
        "id": "N1f26mFXTUrk"
      }
    },
    {
      "cell_type": "code",
      "source": [],
      "metadata": {
        "id": "ZZPJUuTZTXxc"
      },
      "execution_count": null,
      "outputs": []
    },
    {
      "cell_type": "markdown",
      "source": [
        "\n",
        "## \"Exploratory Data Analysis\"\n"
      ],
      "metadata": {
        "id": "5r0PTejsTaBE"
      }
    },
    {
      "cell_type": "code",
      "source": [],
      "metadata": {
        "id": "VfwLDLo8Tea0"
      },
      "execution_count": null,
      "outputs": []
    },
    {
      "cell_type": "markdown",
      "source": [
        "\n",
        "## \"Feature Inspection\""
      ],
      "metadata": {
        "id": "lrtAHEyVTfS8"
      }
    },
    {
      "cell_type": "code",
      "source": [],
      "metadata": {
        "id": "bbv_2OkoTg5c"
      },
      "execution_count": null,
      "outputs": []
    }
  ]
}